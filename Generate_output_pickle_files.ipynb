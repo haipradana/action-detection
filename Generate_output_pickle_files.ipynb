{
 "cells": [
  {
   "cell_type": "code",
   "execution_count": 1,
   "metadata": {},
   "outputs": [],
   "source": [
    "import sys"
   ]
  },
  {
   "cell_type": "code",
   "execution_count": 2,
   "metadata": {},
   "outputs": [],
   "source": [
    "import numpy as np\n",
    "import os\n",
    "from scipy.io import loadmat\n",
    "import pickle"
   ]
  },
  {
   "cell_type": "code",
   "execution_count": 3,
   "metadata": {},
   "outputs": [],
   "source": [
    "labels_path = './Labels_MERL_Shopping_Dataset/'\n",
    "results_path = './Results_MERL_Shopping_Dataset/DetectedActions/'\n",
    "videos_path = './Videos_MERL_Shopping_Dataset/'"
   ]
  },
  {
   "cell_type": "code",
   "execution_count": 4,
   "metadata": {},
   "outputs": [],
   "source": [
    "x_train_path = videos_path+'train/'\n",
    "y_train_path = labels_path+'train/'"
   ]
  },
  {
   "cell_type": "code",
   "execution_count": 5,
   "metadata": {},
   "outputs": [],
   "source": [
    "x_test_path = videos_path + 'test/'\n",
    "y_test_path = labels_path + 'test/'"
   ]
  },
  {
   "cell_type": "code",
   "execution_count": 6,
   "metadata": {},
   "outputs": [],
   "source": [
    "x_val_path = videos_path + '/val/'\n",
    "y_val_path = labels_path + '/val/'"
   ]
  },
  {
   "cell_type": "code",
   "execution_count": 7,
   "metadata": {},
   "outputs": [],
   "source": [
    "y_train_list = sorted(os.listdir(y_train_path))\n",
    "y_test_list = sorted(os.listdir(y_test_path))\n",
    "y_val_list = sorted(os.listdir(y_val_path))"
   ]
  },
  {
   "cell_type": "code",
   "execution_count": 8,
   "metadata": {},
   "outputs": [],
   "source": [
    "y_train_dict = {}\n",
    "for file in y_train_list:\n",
    "    key = '_'.join(file.split('_')[:2])\n",
    "    tlabs = loadmat(y_train_path + file)['tlabs']\n",
    "    len_mat = len(os.listdir(x_train_path + key + '_crop/'))\n",
    "    value = [5]* len_mat\n",
    "    for i in range(5):\n",
    "        for j in tlabs[i][0]:\n",
    "            for k in range(j[0]-1, j[1]):\n",
    "                try:\n",
    "                    value[k] = i\n",
    "                except:\n",
    "                    print(k)\n",
    "                    \n",
    "    step =0\n",
    "    value2=[]\n",
    "    \n",
    "    for i in range(len(value)):\n",
    "\n",
    "        if step != 0:\n",
    "            if step == 1:\n",
    "                step += 1\n",
    "            else: \n",
    "                step = 0\n",
    "                continue\n",
    "        else: \n",
    "            value2.append(i)\n",
    "            step+=1\n",
    "            \n",
    "    y_train_dict [key] = value2"
   ]
  },
  {
   "cell_type": "code",
   "execution_count": 9,
   "metadata": {},
   "outputs": [],
   "source": [
    "file_name = 'train_y.pkl'\n",
    "with open(file_name, 'wb') as pickle_file:\n",
    "    pickle.dump(y_train_dict, pickle_file)"
   ]
  },
  {
   "cell_type": "code",
   "execution_count": 10,
   "metadata": {},
   "outputs": [],
   "source": [
    "y_test_dict = {}\n",
    "for file in y_test_list:\n",
    "    key = '_'.join(file.split('_')[:2])\n",
    "    tlabs = loadmat(y_test_path + file)['tlabs']\n",
    "    len_mat = len(os.listdir(x_test_path + key + '_crop/'))\n",
    "    value = [5]* len_mat\n",
    "    for i in range(5):\n",
    "        for j in tlabs[i][0]:\n",
    "            for k in range(j[0]-1, j[1]):\n",
    "                try:\n",
    "                    value[k] = i\n",
    "                except:\n",
    "                    print(k)\n",
    "    step =0\n",
    "    value2=[]\n",
    "    \n",
    "    for i in range(len(value)):\n",
    "\n",
    "        if step != 0:\n",
    "            if step == 1:\n",
    "                step += 1\n",
    "            else: \n",
    "                step = 0\n",
    "                continue\n",
    "        else: \n",
    "            value2.append(i)\n",
    "            step+=1\n",
    "            \n",
    "    y_test_dict [key] = value2"
   ]
  },
  {
   "cell_type": "code",
   "execution_count": 11,
   "metadata": {},
   "outputs": [],
   "source": [
    "file_name = 'test_y.pkl'\n",
    "with open(file_name, 'wb') as pickle_file:\n",
    "    pickle.dump(y_test_dict, pickle_file)"
   ]
  },
  {
   "cell_type": "code",
   "execution_count": 12,
   "metadata": {},
   "outputs": [],
   "source": [
    "y_val_dict = {}\n",
    "for file in y_val_list:\n",
    "    key = '_'.join(file.split('_')[:2])\n",
    "    tlabs = loadmat(y_val_path + file)['tlabs']\n",
    "    len_mat = len(os.listdir(x_val_path + key + '_crop/'))\n",
    "    value = [5]* len_mat\n",
    "    for i in range(5):\n",
    "        for j in tlabs[i][0]:\n",
    "            for k in range(j[0]-1, j[1]):\n",
    "                try:\n",
    "                    value[k] = i\n",
    "                except:\n",
    "                    print(k)\n",
    "    step =0\n",
    "    value2=[]\n",
    "    \n",
    "    for i in range(len(value)):\n",
    "\n",
    "        if step != 0:\n",
    "            if step == 1:\n",
    "                step += 1\n",
    "            else: \n",
    "                step = 0\n",
    "                continue\n",
    "        else: \n",
    "            value2.append(i)\n",
    "            step+=1\n",
    "            \n",
    "    y_test_dict [key] = value2"
   ]
  },
  {
   "cell_type": "code",
   "execution_count": 13,
   "metadata": {},
   "outputs": [],
   "source": [
    "file_name = 'val_y.pkl'\n",
    "with open(file_name, 'wb') as pickle_file:\n",
    "    pickle.dump(y_test_dict, pickle_file)"
   ]
  },
  {
   "cell_type": "code",
   "execution_count": null,
   "metadata": {},
   "outputs": [],
   "source": []
  }
 ],
 "metadata": {
  "kernelspec": {
   "display_name": "Python 3",
   "language": "python",
   "name": "python3"
  },
  "language_info": {
   "codemirror_mode": {
    "name": "ipython",
    "version": 3
   },
   "file_extension": ".py",
   "mimetype": "text/x-python",
   "name": "python",
   "nbconvert_exporter": "python",
   "pygments_lexer": "ipython3",
   "version": "3.6.9"
  }
 },
 "nbformat": 4,
 "nbformat_minor": 2
}
