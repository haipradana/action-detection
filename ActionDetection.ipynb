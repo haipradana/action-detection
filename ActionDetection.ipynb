{
 "cells": [
  {
   "cell_type": "code",
   "execution_count": 3,
   "metadata": {},
   "outputs": [],
   "source": [
    "import numpy as np\n",
    "import tensorflow as tf\n",
    "import tensorflow.keras.layers as layers\n",
    "from tensorflow.keras.utils import Sequence\n",
    "import os\n",
    "from scipy.io import loadmat\n",
    "from tensorflow.keras import Model"
   ]
  },
  {
   "cell_type": "code",
   "execution_count": 4,
   "metadata": {},
   "outputs": [],
   "source": [
    "from PIL import Image"
   ]
  },
  {
   "cell_type": "code",
   "execution_count": 5,
   "metadata": {},
   "outputs": [],
   "source": [
    "labels_path = './Labels_MERL_Shopping_Dataset/'\n",
    "results_path = './Results_MERL_Shopping_Dataset/DetectedActions/'\n",
    "videos_path = './Videos_MERL_Shopping_Dataset/'"
   ]
  },
  {
   "cell_type": "code",
   "execution_count": 6,
   "metadata": {},
   "outputs": [],
   "source": [
    "x_train_path = videos_path+'train/'\n",
    "y_train_path = labels_path+'train/'"
   ]
  },
  {
   "cell_type": "code",
   "execution_count": 7,
   "metadata": {},
   "outputs": [],
   "source": [
    "x_test_path = videos_path + 'test/'\n",
    "y_test_path = labels_path + 'test/'"
   ]
  },
  {
   "cell_type": "code",
   "execution_count": 8,
   "metadata": {},
   "outputs": [],
   "source": [
    "x_val_path = videos_path + '/val/'\n",
    "y_val_path = labels_path + '/val/'"
   ]
  },
  {
   "cell_type": "code",
   "execution_count": null,
   "metadata": {},
   "outputs": [],
   "source": [
    "class DataGenerator(Sequence):\n",
    "    \n",
    "    def __init__(self, x_path, to_fit = True, y_path = None, seq_len = 30):\n",
    "        self.x_path = x_path        \n",
    "#         self.batch_size = batch_size\n",
    "        self.to_fit = to_fit\n",
    "        self.list_X = self(os.listdir(self.x_path))\n",
    "        self.seq_len = seq_len\n",
    "        if to_fit:\n",
    "            self.y_path = y_path\n",
    "            self.dict_Y = self.get_y(y_path)\n",
    "    \n",
    "    \n",
    "    def __len__(self):\n",
    "        return len(list_X)\n",
    "    \n",
    "    \n",
    "    def __getitem__(self, index):\n",
    "        images_folder = self.list_X[index]\n",
    "        images_list = sorted(os.listdir(self.x_path + images_folder))\n",
    "        all_frames = []\n",
    "        for img in images_list:\n",
    "            all_frames.append(np.array(Image.open(x_train_path+images_folder+'/'+img)))\n",
    "        \n",
    "        X = stack_frames(all_frames)\n",
    "        \n",
    "        if self.to_fit:\n",
    "            key = images_folder.split('_')[:2]\n",
    "            key = '_'.join(key)\n",
    "            Y = np.array(self.dict_Y(key))\n",
    "            return X, Y[30:]\n",
    "        \n",
    "        return X\n",
    "    \n",
    "    def get_y(path):\n",
    "        with open(path, 'rb') as pickle_file:\n",
    "            y_dict = pickle.load(pickle_file)\n",
    "        return y_dict \n",
    "    \n",
    "    def stack_frames(frames):\n",
    "        stacked_frames = []\n",
    "        for i in range(len(frames) - self.seq_len):\n",
    "            start = i\n",
    "            stacked_frames.append(frames[i:end])\n",
    "        \n",
    "        return np.stack(stacked_frames)"
   ]
  },
  {
   "cell_type": "code",
   "execution_count": null,
   "metadata": {},
   "outputs": [],
   "source": [
    "class Encoder(Model):\n",
    "    def __init__(self, latent_dim):\n",
    "        super(Encoder, self).init()\n",
    "        resnet = tf.keras.applications.ResNet152V2()\n",
    "        \n",
    "    def call(self, inputs):\n",
    "        x =  \n",
    "        "
   ]
  },
  {
   "cell_type": "code",
   "execution_count": null,
   "metadata": {},
   "outputs": [],
   "source": [
    "class ConvLSTM(Model):\n",
    "    \n",
    "    def __init__(self, latent_dim, lstm_layers = 1, hidden_dim = 1024):\n",
    "        super(ConvLSTM, self).__init__()\n",
    "        self.encoder = Encoder(latent_dim)\n",
    "        self.encoder.trainable = False\n",
    "        self.attention = tfa.seq2seq.BahdanauAttention(units, )\n",
    "        self.lstm = LSTM(latent_dim, lstm_layers, hidden_dim)\n",
    "        "
   ]
  },
  {
   "cell_type": "code",
   "execution_count": null,
   "metadata": {
    "scrolled": false
   },
   "outputs": [],
   "source": []
  },
  {
   "cell_type": "code",
   "execution_count": null,
   "metadata": {},
   "outputs": [],
   "source": []
  }
 ],
 "metadata": {
  "kernelspec": {
   "display_name": "Python 3",
   "language": "python",
   "name": "python3"
  }
 },
 "nbformat": 4,
 "nbformat_minor": 2
}
