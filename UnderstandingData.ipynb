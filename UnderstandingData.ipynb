{
 "cells": [
  {
   "cell_type": "code",
   "execution_count": 1,
   "metadata": {},
   "outputs": [],
   "source": [
    "import numpy as np\n",
    "import tensorflow as tf\n",
    "import tensorflow.keras.layers as layers\n",
    "from tensorflow.keras.utils import Sequence\n",
    "import os\n",
    "from scipy.io import loadmat"
   ]
  },
  {
   "cell_type": "code",
   "execution_count": 2,
   "metadata": {},
   "outputs": [],
   "source": [
    "labels_path = './Labels_MERL_Shopping_Dataset/'\n",
    "results_path = './Results_MERL_Shopping_Dataset/DetectedActions/'\n",
    "videos_path = './Videos_MERL_Shopping_Dataset/'"
   ]
  },
  {
   "cell_type": "code",
   "execution_count": 11,
   "metadata": {},
   "outputs": [],
   "source": [
    "x_train_path = videos_path+'train/'\n",
    "y_train_path = labels_path+'train/'"
   ]
  },
  {
   "cell_type": "code",
   "execution_count": 4,
   "metadata": {},
   "outputs": [],
   "source": [
    "x_test_path = videos_path + 'test/'\n",
    "y_test_path = labels_path + 'test/'"
   ]
  },
  {
   "cell_type": "code",
   "execution_count": 5,
   "metadata": {},
   "outputs": [],
   "source": [
    "x_val_path = videos_path + '/val/'\n",
    "y_val_path = labels_path + '/val/'"
   ]
  },
  {
   "cell_type": "code",
   "execution_count": 10,
   "metadata": {},
   "outputs": [],
   "source": [
    "class DataGenerator(Sequence):\n",
    "    \n",
    "    def __init__(self, x_path, y_path, to_fit = True, batch_size = 32):\n",
    "        self.x_path = x_path\n",
    "        self.y_path = y_path\n",
    "        self.batch_size = batch_size\n",
    "        self.to_fit = to_fit\n",
    "        self.list_X = seldf(os.listdir(self.x_path))\n",
    "        if to_fit:\n",
    "            self.list_Y = sorted(os.listdir(self.y_path))\n",
    "    \n",
    "    \n",
    "    def __len__(self):\n",
    "        return len(list_X)//self.batch_size + 1\n",
    "    \n",
    "    \n",
    "    def __getitem__(self):\n",
    "        \n",
    "        \n",
    "        if self.to_fit:\n",
    "            return X, Y\n",
    "        \n",
    "        return X"
   ]
  },
  {
   "cell_type": "code",
   "execution_count": 15,
   "metadata": {},
   "outputs": [],
   "source": []
  },
  {
   "cell_type": "code",
   "execution_count": 16,
   "metadata": {
    "scrolled": false
   },
   "outputs": [
    {
     "data": {
      "text/plain": [
       "{'__header__': b'MATLAB 5.0 MAT-file, Platform: MACI64, Created on: Fri Aug  5 17:01:54 2016',\n",
       " '__version__': '1.0',\n",
       " '__globals__': [],\n",
       " 'tlabs': array([[array([[ 240,  270],\n",
       "        [ 473,  502],\n",
       "        [1159, 1184],\n",
       "        [1385, 1414],\n",
       "        [2098, 2119],\n",
       "        [2141, 2166],\n",
       "        [2459, 2482],\n",
       "        [2843, 2857],\n",
       "        [3165, 3185],\n",
       "        [3379, 3405],\n",
       "        [ 411,  442],\n",
       "        [ 894,  949],\n",
       "        [1014, 1063],\n",
       "        [1882, 1907],\n",
       "        [2312, 2349],\n",
       "        [2622, 2659],\n",
       "        [2995, 3039],\n",
       "        [3316, 3360],\n",
       "        [3457, 3504]], dtype=uint16)],\n",
       "        [array([[ 444,  471],\n",
       "        [1064, 1104],\n",
       "        [1255, 1284],\n",
       "        [1909, 1923],\n",
       "        [2247, 2264],\n",
       "        [2376, 2403],\n",
       "        [2660, 2684],\n",
       "        [3042, 3069],\n",
       "        [3361, 3377],\n",
       "        [3504, 3520],\n",
       "        [ 271,  299],\n",
       "        [ 723,  756],\n",
       "        [ 957,  993],\n",
       "        [1446, 1481],\n",
       "        [2121, 2140],\n",
       "        [2483, 2516],\n",
       "        [2859, 2882],\n",
       "        [3186, 3213],\n",
       "        [3406, 3438]], dtype=uint16)],\n",
       "        [array([[ 504,  722],\n",
       "        [1187, 1253],\n",
       "        [1414, 1443],\n",
       "        [2168, 2246],\n",
       "        [2352, 2374]], dtype=uint16)],\n",
       "        [array([[ 307,  403],\n",
       "        [ 762,  888],\n",
       "        [ 993, 1012],\n",
       "        [1484, 1878],\n",
       "        [2168, 2245],\n",
       "        [2265, 2310],\n",
       "        [2519, 2620],\n",
       "        [2883, 2993],\n",
       "        [3215, 3313],\n",
       "        [3440, 3456]], dtype=uint16)],\n",
       "        [array([[ 201,  238],\n",
       "        [1107, 1157],\n",
       "        [1286, 1383],\n",
       "        [2406, 2456],\n",
       "        [2685, 2841],\n",
       "        [3071, 3165],\n",
       "        [3522, 3666]], dtype=uint16)]], dtype=object)}"
      ]
     },
     "execution_count": 16,
     "metadata": {},
     "output_type": "execute_result"
    }
   ],
   "source": []
  },
  {
   "cell_type": "code",
   "execution_count": null,
   "metadata": {},
   "outputs": [],
   "source": []
  }
 ],
 "metadata": {
  "kernelspec": {
   "display_name": "Python 3",
   "language": "python",
   "name": "python3"
  },
  "language_info": {
   "codemirror_mode": {
    "name": "ipython",
    "version": 3
   },
   "file_extension": ".py",
   "mimetype": "text/x-python",
   "name": "python",
   "nbconvert_exporter": "python",
   "pygments_lexer": "ipython3",
   "version": "3.7.5"
  }
 },
 "nbformat": 4,
 "nbformat_minor": 2
}
