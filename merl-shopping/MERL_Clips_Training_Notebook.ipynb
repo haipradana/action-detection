{
  "cells": [
    {
      "cell_type": "raw",
      "metadata": {
        "vscode": {
          "languageId": "raw"
        }
      },
      "source": [
        "# 🎯 MERL Shopping Action Recognition Training\n",
        "\n",
        "## Complete notebook untuk training dengan dataset dari HuggingFace\n",
        "\n",
        "**Struktur Dataset:**\n",
        "```\n",
        "MERL_Shopping_Dataset/\n",
        "├── videos/    # .mp4 files \n",
        "└── labels/    # .mat files\n",
        "```\n"
      ]
    },
    {
      "cell_type": "raw",
      "metadata": {
        "vscode": {
          "languageId": "raw"
        }
      },
      "source": [
        "## 📦 Step 1: Install Dependencies & Download Dataset\n"
      ]
    },
    {
      "cell_type": "code",
      "execution_count": null,
      "metadata": {},
      "outputs": [],
      "source": [
        "# Install required packages\n",
        "%pip install tensorflow opencv-python scipy pandas numpy matplotlib scikit-learn huggingface-hub\n"
      ]
    }
  ],
  "metadata": {
    "language_info": {
      "name": "python"
    }
  },
  "nbformat": 4,
  "nbformat_minor": 2
}
